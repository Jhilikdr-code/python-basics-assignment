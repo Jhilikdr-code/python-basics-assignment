{
 "cells": [
  {
   "cell_type": "code",
   "execution_count": 1,
   "id": "fa6b6826-de2c-431f-8aa7-e89439d72494",
   "metadata": {},
   "outputs": [
    {
     "name": "stdout",
     "output_type": "stream",
     "text": [
      "Python is popular due to its simple, readable syntax, making it easy to learn and use. It’s versatile, working across multiple platforms and supporting web development, data science, automation and more. With an extensive standard library and third-party modules, Python simplifies many tasks.\n"
     ]
    }
   ],
   "source": [
    "#1 Explain the key features of Python that make it a popular choice for programming.\n",
    "print( \"Python is popular due to its simple, readable syntax, making it easy to learn and use. It’s versatile, working across multiple platforms and supporting web development, data science, automation and more. With an extensive standard library and third-party modules, Python simplifies many tasks.\" )\n"
   ]
  },
  {
   "cell_type": "code",
   "execution_count": 2,
   "id": "d39653ad-456a-4910-a706-89744fd8dc4a",
   "metadata": {},
   "outputs": [
    {
     "name": "stdout",
     "output_type": "stream",
     "text": [
      "Predefined keywords in Python, also known as reserved keywords, are special words that have specific meanings and uses within the Python language. These keywords are reserved for the core language syntax and cannot be used as identifiers\n"
     ]
    }
   ],
   "source": [
    "#2  Describe the role of predefined keywords in Python and provide examples of how they are used in a program\n",
    "print( \"Predefined keywords in Python, also known as reserved keywords, are special words that have specific meanings and uses within the Python language. These keywords are reserved for the core language syntax and cannot be used as identifiers\" )\n"
   ]
  },
  {
   "cell_type": "code",
   "execution_count": 3,
   "id": "5f0a15a1-780f-483a-8244-aafbf707bd45",
   "metadata": {},
   "outputs": [
    {
     "name": "stdout",
     "output_type": "stream",
     "text": [
      "Hello Jhilik\n"
     ]
    }
   ],
   "source": [
    "print( \"Hello Jhilik\" ) #here print is a keyword"
   ]
  },
  {
   "cell_type": "code",
   "execution_count": 4,
   "id": "8cb6eb25-813b-42ea-8459-210fc9e7b0df",
   "metadata": {},
   "outputs": [
    {
     "name": "stdout",
     "output_type": "stream",
     "text": [
      " In Python, mutable objects means the objects which can be modified and immutable means the objects which cannot be modified. Example- lists are mutable and tuple are immutable.\n"
     ]
    }
   ],
   "source": [
    "#3 Compare and contrast mutable and immutable objects in Python with examples\n",
    "print( \" In Python, mutable objects means the objects which can be modified and immutable means the objects which cannot be modified. Example- lists are mutable and tuple are immutable.\" )\n"
   ]
  },
  {
   "cell_type": "code",
   "execution_count": 5,
   "id": "7c429235-d1c9-4c4e-acb2-92eab5aacfc3",
   "metadata": {},
   "outputs": [
    {
     "name": "stdout",
     "output_type": "stream",
     "text": [
      "[5, 100, 17]\n"
     ]
    }
   ],
   "source": [
    "#example of mutable objects\n",
    "a=[5,\"jhilik\",17]\n",
    "a[1]= 100 #here jhilik is changed to 100\n",
    "print(a)\n"
   ]
  },
  {
   "cell_type": "code",
   "execution_count": 6,
   "id": "725be9b2-bf36-481a-b054-d0f886d31a4a",
   "metadata": {},
   "outputs": [
    {
     "ename": "TypeError",
     "evalue": "'str' object does not support item assignment",
     "output_type": "error",
     "traceback": [
      "\u001b[0;31m---------------------------------------------------------------------------\u001b[0m",
      "\u001b[0;31mTypeError\u001b[0m                                 Traceback (most recent call last)",
      "Cell \u001b[0;32mIn[6], line 3\u001b[0m\n\u001b[1;32m      1\u001b[0m \u001b[38;5;66;03m#example of immutable objects\u001b[39;00m\n\u001b[1;32m      2\u001b[0m b\u001b[38;5;241m=\u001b[39m \u001b[38;5;124m\"\u001b[39m\u001b[38;5;124mjhilik\u001b[39m\u001b[38;5;124m\"\u001b[39m\n\u001b[0;32m----> 3\u001b[0m \u001b[43mb\u001b[49m\u001b[43m[\u001b[49m\u001b[38;5;241;43m2\u001b[39;49m\u001b[43m]\u001b[49m\u001b[38;5;241m=\u001b[39m \u001b[38;5;241m5\u001b[39m \u001b[38;5;66;03m#here b is a string and I am trying to change the letter i with with 5 which cannot be performed and it will show an error because strings are immutable objects\u001b[39;00m\n\u001b[1;32m      4\u001b[0m \u001b[38;5;28mprint\u001b[39m(b)\n",
      "\u001b[0;31mTypeError\u001b[0m: 'str' object does not support item assignment"
     ]
    }
   ],
   "source": [
    "#example of immutable objects\n",
    "b= \"jhilik\"\n",
    "b[2]= 5 #here b is a string and I am trying to change the letter i with with 5 which cannot be performed and it will show an error because strings are immutable objects\n",
    "print(b)\n"
   ]
  },
  {
   "cell_type": "code",
   "execution_count": 7,
   "id": "86915df2-10f5-46d6-ae72-d3f7f5b14ab7",
   "metadata": {},
   "outputs": [
    {
     "name": "stdout",
     "output_type": "stream",
     "text": [
      "Python supports various types of operator such as : Arithmatic operator, Logical operator, Comparison operator, Bitwise operator,Assignment operator, Conditional operator, nmembership and identity operator.\n"
     ]
    }
   ],
   "source": [
    "#4 Discuss the different types of operators in Python and provide examples of how they are used.\n",
    "print( \"Python supports various types of operator such as : Arithmatic operator, Logical operator, Comparison operator, Bitwise operator,Assignment operator, Conditional operator, nmembership and identity operator.\" )\n"
   ]
  },
  {
   "cell_type": "code",
   "execution_count": 8,
   "id": "93ce66cb-f807-4f93-b036-9313ace3d62f",
   "metadata": {},
   "outputs": [
    {
     "name": "stdout",
     "output_type": "stream",
     "text": [
      "15\n"
     ]
    }
   ],
   "source": [
    "#arithmetic operator example\n",
    "a= 5\n",
    "b= 10\n",
    "c= a+b #here + is an arithmetic operator\n",
    "print(c)\n"
   ]
  },
  {
   "cell_type": "code",
   "execution_count": 9,
   "id": "6e1fae52-eb04-4df7-b6c6-f9b4051c7289",
   "metadata": {},
   "outputs": [
    {
     "data": {
      "text/plain": [
       "False"
      ]
     },
     "execution_count": 9,
     "metadata": {},
     "output_type": "execute_result"
    }
   ],
   "source": [
    "#logical operator\n",
    "True and False #here and is a logical operator\n"
   ]
  },
  {
   "cell_type": "code",
   "execution_count": 10,
   "id": "f56e637d-90af-4d97-af21-9c9aba1ac6ce",
   "metadata": {},
   "outputs": [
    {
     "data": {
      "text/plain": [
       "True"
      ]
     },
     "execution_count": 10,
     "metadata": {},
     "output_type": "execute_result"
    }
   ],
   "source": [
    "True or False #here or is a logical operator"
   ]
  },
  {
   "cell_type": "code",
   "execution_count": 11,
   "id": "ed6ae281-791b-4bd1-a637-27fdaed5e94a",
   "metadata": {},
   "outputs": [
    {
     "data": {
      "text/plain": [
       "True"
      ]
     },
     "execution_count": 11,
     "metadata": {},
     "output_type": "execute_result"
    }
   ],
   "source": [
    "#comparison operator\n",
    "2==2 #here we are comparing 2 with 2 as in whether 2 is equal to 2 with the symbol = and the answer will come in Boolean\n"
   ]
  },
  {
   "cell_type": "code",
   "execution_count": 12,
   "id": "56e89f9b-a9f0-4ec8-8da4-232bd94eee5e",
   "metadata": {},
   "outputs": [
    {
     "data": {
      "text/plain": [
       "True"
      ]
     },
     "execution_count": 12,
     "metadata": {},
     "output_type": "execute_result"
    }
   ],
   "source": [
    "5>2"
   ]
  },
  {
   "cell_type": "code",
   "execution_count": 13,
   "id": "dd70bb40-b285-4112-a0d0-9e1eac121ba0",
   "metadata": {},
   "outputs": [
    {
     "data": {
      "text/plain": [
       "10"
      ]
     },
     "execution_count": 13,
     "metadata": {},
     "output_type": "execute_result"
    }
   ],
   "source": [
    "#bitwise operator\n",
    "10 & 10 #here & is a bitwise operator\n"
   ]
  },
  {
   "cell_type": "code",
   "execution_count": 14,
   "id": "1f809ba4-c03b-4a1e-87e3-6e1820a80fb1",
   "metadata": {},
   "outputs": [
    {
     "data": {
      "text/plain": [
       "'0b1010'"
      ]
     },
     "execution_count": 14,
     "metadata": {},
     "output_type": "execute_result"
    }
   ],
   "source": [
    "bin(10)"
   ]
  },
  {
   "cell_type": "code",
   "execution_count": 15,
   "id": "cebf805c-ac8c-4737-b335-ac4762058f4b",
   "metadata": {},
   "outputs": [
    {
     "name": "stdout",
     "output_type": "stream",
     "text": [
      "15\n"
     ]
    }
   ],
   "source": [
    "#assignment operator\n",
    "a=5 #here 5 is assigned to a\n",
    "a+=10\n",
    "print(a)\n"
   ]
  },
  {
   "cell_type": "code",
   "execution_count": 16,
   "id": "cf3528d1-2886-48d2-9eeb-18e037928abc",
   "metadata": {},
   "outputs": [
    {
     "name": "stdout",
     "output_type": "stream",
     "text": [
      "adult\n"
     ]
    }
   ],
   "source": [
    "#conditional operator\n",
    "age =18\n",
    "if age>=18 : #here if is a conditional operator\n",
    "    print ( \"adult\" )\n",
    "else: #here else is a conditonal operator\n",
    "    print ( \"minor\" )\n"
   ]
  },
  {
   "cell_type": "code",
   "execution_count": 17,
   "id": "b272b90f-71de-429e-8404-6a33091646e0",
   "metadata": {},
   "outputs": [
    {
     "data": {
      "text/plain": [
       "False"
      ]
     },
     "execution_count": 17,
     "metadata": {},
     "output_type": "execute_result"
    }
   ],
   "source": [
    "#membership operator\n",
    "c= \"jhilik\"\n",
    "\"p\" in c #here we are asking if p is a member of jhilik or not and the answer comes in Boolean\n"
   ]
  },
  {
   "cell_type": "code",
   "execution_count": 18,
   "id": "6146f13d-7ef0-4db9-8fdd-6122049e67f1",
   "metadata": {},
   "outputs": [
    {
     "data": {
      "text/plain": [
       "False"
      ]
     },
     "execution_count": 18,
     "metadata": {},
     "output_type": "execute_result"
    }
   ],
   "source": [
    "#identity operator\n",
    "x = 10\n",
    "y = 15\n",
    "x is y #in identity operators if both the variable has the same object the answer will be true or else false\n"
   ]
  },
  {
   "cell_type": "code",
   "execution_count": 19,
   "id": "5af61b09-f286-4f51-895d-90db5e25ad1d",
   "metadata": {},
   "outputs": [
    {
     "data": {
      "text/plain": [
       "True"
      ]
     },
     "execution_count": 19,
     "metadata": {},
     "output_type": "execute_result"
    }
   ],
   "source": [
    "x=10\n",
    "y=x\n",
    "x is y #here since both the variables are referring to the same object the answer is true\n"
   ]
  },
  {
   "cell_type": "code",
   "execution_count": 20,
   "id": "348730c6-002c-4e0a-a154-0485350f3626",
   "metadata": {},
   "outputs": [
    {
     "name": "stdout",
     "output_type": "stream",
     "text": [
      "Type casting in Python refers to the process of converting one data type into another. It is used when you need to explicitly change the type of a variable to match the operation or logic you're implementing.\n"
     ]
    }
   ],
   "source": [
    "#5 explain the concept of type casting in Python with examples\n",
    "print ( \"Type casting in Python refers to the process of converting one data type into another. It is used when you need to explicitly change the type of a variable to match the operation or logic you're implementing.\" )\n"
   ]
  },
  {
   "cell_type": "code",
   "execution_count": 21,
   "id": "980f471c-77eb-4caa-8a59-e35ad18cfd37",
   "metadata": {},
   "outputs": [
    {
     "data": {
      "text/plain": [
       "int"
      ]
     },
     "execution_count": 21,
     "metadata": {},
     "output_type": "execute_result"
    }
   ],
   "source": [
    "#typecasting examples\n",
    "a = \"2\"\n",
    "type(a) #here a is a string as we put 2 in quotes\n",
    "b= int(a) #here we are changing the type of \"a\" into integer\n",
    "type(b)\n"
   ]
  },
  {
   "cell_type": "code",
   "execution_count": 22,
   "id": "a9bdd9cd-dd14-47da-bce3-b8349794732e",
   "metadata": {},
   "outputs": [
    {
     "name": "stdout",
     "output_type": "stream",
     "text": [
      "3\n"
     ]
    }
   ],
   "source": [
    "c= 3.5 #here c is a float\n",
    "type(c)\n",
    "d= int(c) #here we are changing the type of \"c\" into integer\n",
    "print(d)\n"
   ]
  },
  {
   "cell_type": "code",
   "execution_count": 23,
   "id": "b538f1fa-7fdb-4907-afd9-998488a27f99",
   "metadata": {},
   "outputs": [
    {
     "name": "stdout",
     "output_type": "stream",
     "text": [
      "In Python, conditional statements are used to perform different actions based on different conditions. They allow the program to make decisions and execute specific blocks of code depending on whether a condition is True or False. The most common conditional statements in Python are if, elif, and else.\n"
     ]
    }
   ],
   "source": [
    "#6 How do conditional statements work in Python? Illusttate with examples\n",
    "print ( \"In Python, conditional statements are used to perform different actions based on different conditions. They allow the program to make decisions and execute specific blocks of code depending on whether a condition is True or False. The most common conditional statements in Python are if, elif, and else.\" )\n"
   ]
  },
  {
   "cell_type": "code",
   "execution_count": 24,
   "id": "2d48adbc-b01a-457f-bd25-ea906c5d2d3a",
   "metadata": {},
   "outputs": [
    {
     "name": "stdout",
     "output_type": "stream",
     "text": [
      "adult\n"
     ]
    }
   ],
   "source": [
    "#if example\n",
    "age= 18\n",
    "if age>=18 :\n",
    "    print(\"adult\")\n"
   ]
  },
  {
   "cell_type": "code",
   "execution_count": 25,
   "id": "fc9af2aa-f10d-4869-926e-6ca49be4f6ec",
   "metadata": {},
   "outputs": [
    {
     "name": "stdout",
     "output_type": "stream",
     "text": [
      "teenager\n"
     ]
    }
   ],
   "source": [
    "#elif example\n",
    "age =15\n",
    "if age>=18 :\n",
    "    print(\"adult\")\n",
    "elif age>=12 :\n",
    "    print(\"teenager\")\n"
   ]
  },
  {
   "cell_type": "code",
   "execution_count": 26,
   "id": "504cbcb0-f569-498e-946d-9ac2eb606b2d",
   "metadata": {},
   "outputs": [
    {
     "name": "stdout",
     "output_type": "stream",
     "text": [
      "child\n"
     ]
    }
   ],
   "source": [
    "#else if example\n",
    "age =10\n",
    "if age>=18 :\n",
    "    print(\"adult\")\n",
    "elif age>=12 :\n",
    "    print(\"teenager\")\n",
    "else :\n",
    "    print(\"child\")\n"
   ]
  },
  {
   "cell_type": "code",
   "execution_count": 27,
   "id": "35181f82-b5dc-4673-aa05-9a888eecd648",
   "metadata": {},
   "outputs": [
    {
     "name": "stdout",
     "output_type": "stream",
     "text": [
      "In Python, loops are used to execute a block of code repeatedly until a specified condition is met. There are two main types of loops in Python: for loops and while loops. Additionally, there are keywords like break and continue that modify the behavior of loops.\n"
     ]
    }
   ],
   "source": [
    "#7 Describe the different types of loops in Python and their use cases with examples\n",
    "print ( \"In Python, loops are used to execute a block of code repeatedly until a specified condition is met. There are two main types of loops in Python: for loops and while loops. Additionally, there are keywords like break and continue that modify the behavior of loops.\" )\n"
   ]
  },
  {
   "cell_type": "code",
   "execution_count": 28,
   "id": "a9fa5c10-1944-4142-acfb-aa424bb74b42",
   "metadata": {},
   "outputs": [
    {
     "name": "stdout",
     "output_type": "stream",
     "text": [
      "apple\n",
      "banana\n",
      "guava\n",
      "papaya\n"
     ]
    }
   ],
   "source": [
    "#for loop example\n",
    "fruits= [\"apple\",\"banana\",\"guava\",\"papaya\"]\n",
    "for fruity in fruits :\n",
    "    print(fruity)\n"
   ]
  },
  {
   "cell_type": "code",
   "execution_count": 29,
   "id": "cc4527ab-6681-4bda-ba09-7c9c73df1ab6",
   "metadata": {},
   "outputs": [
    {
     "name": "stdout",
     "output_type": "stream",
     "text": [
      "1\n",
      "2\n",
      "3\n",
      "4\n",
      "5\n"
     ]
    }
   ],
   "source": [
    "#while loop example\n",
    "i=1\n",
    "while i<=5 :\n",
    "    print(i)\n",
    "    i=i+1"
   ]
  },
  {
   "cell_type": "code",
   "execution_count": 33,
   "id": "4d427875-3393-4867-afa4-6c518fd6c67c",
   "metadata": {},
   "outputs": [
    {
     "name": "stdout",
     "output_type": "stream",
     "text": [
      "1\n",
      "2\n",
      "3\n",
      "4\n"
     ]
    }
   ],
   "source": [
    "#break loop example\n",
    "i=1\n",
    "n=7\n",
    "while i<n :\n",
    "    print(i)\n",
    "    i=i+1\n",
    "    if i==5 :\n",
    "        break"
   ]
  },
  {
   "cell_type": "code",
   "execution_count": 45,
   "id": "5b2afe9c-1507-4579-ba4d-dcf7fa1a3cc1",
   "metadata": {},
   "outputs": [
    {
     "name": "stdout",
     "output_type": "stream",
     "text": [
      "2\n",
      "4\n",
      "5\n",
      "6\n",
      "7\n"
     ]
    }
   ],
   "source": [
    "#continue loop example\n",
    "n=7\n",
    "i=1\n",
    "while i<n :\n",
    "    i=i+1\n",
    "    if i==3 :\n",
    "        continue\n",
    "    print(i)"
   ]
  }
 ],
 "metadata": {
  "kernelspec": {
   "display_name": "Python 3 (ipykernel)",
   "language": "python",
   "name": "python3"
  },
  "language_info": {
   "codemirror_mode": {
    "name": "ipython",
    "version": 3
   },
   "file_extension": ".py",
   "mimetype": "text/x-python",
   "name": "python",
   "nbconvert_exporter": "python",
   "pygments_lexer": "ipython3",
   "version": "3.10.8"
  }
 },
 "nbformat": 4,
 "nbformat_minor": 5
}
